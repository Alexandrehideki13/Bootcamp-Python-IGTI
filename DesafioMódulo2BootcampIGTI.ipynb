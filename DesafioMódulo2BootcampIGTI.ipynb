{
  "nbformat": 4,
  "nbformat_minor": 0,
  "metadata": {
    "colab": {
      "name": "DesafioMódulo2BootcampIGTI",
      "provenance": [],
      "collapsed_sections": [],
      "authorship_tag": "ABX9TyO6DultRqoJleYDnatmD3E8",
      "include_colab_link": true
    },
    "kernelspec": {
      "name": "python3",
      "display_name": "Python 3"
    },
    "language_info": {
      "name": "python"
    }
  },
  "cells": [
    {
      "cell_type": "markdown",
      "metadata": {
        "id": "view-in-github",
        "colab_type": "text"
      },
      "source": [
        "<a href=\"https://colab.research.google.com/github/Alexandrehideki13/Bootcamp-Python-IGTI/blob/main/DesafioM%C3%B3dulo2BootcampIGTI.ipynb\" target=\"_parent\"><img src=\"https://colab.research.google.com/assets/colab-badge.svg\" alt=\"Open In Colab\"/></a>"
      ]
    },
    {
      "cell_type": "code",
      "metadata": {
        "id": "6PFLSrSEv6qR"
      },
      "source": [
        "# Importando as bibliotecas para analise de dados\n",
        "import numpy as np\n",
        "import pandas as pd"
      ],
      "execution_count": null,
      "outputs": []
    },
    {
      "cell_type": "code",
      "metadata": {
        "id": "rAOmQV9HwSXv"
      },
      "source": [
        "# Lendo o arquivo csv\n",
        "df = pd.read_csv(\"https://pycourse.s3.amazonaws.com/bike-sharing.csv\")"
      ],
      "execution_count": null,
      "outputs": []
    },
    {
      "cell_type": "code",
      "metadata": {
        "colab": {
          "base_uri": "https://localhost:8080/"
        },
        "id": "hE-2wj2CxGSW",
        "outputId": "9c96f5cd-a480-49c5-8793-0f36a60eadfd"
      },
      "source": [
        "# Buscando informações das ids do DataFrame\n",
        "df.info()"
      ],
      "execution_count": null,
      "outputs": [
        {
          "output_type": "stream",
          "text": [
            "<class 'pandas.core.frame.DataFrame'>\n",
            "RangeIndex: 17379 entries, 0 to 17378\n",
            "Data columns (total 17 columns):\n",
            " #   Column             Non-Null Count  Dtype  \n",
            "---  ------             --------------  -----  \n",
            " 0   datetime           17379 non-null  object \n",
            " 1   rec_id             17379 non-null  int64  \n",
            " 2   season             17379 non-null  int64  \n",
            " 3   year               17379 non-null  int64  \n",
            " 4   month              17379 non-null  int64  \n",
            " 5   hour               17379 non-null  int64  \n",
            " 6   is_holiday         17379 non-null  int64  \n",
            " 7   weekday            17379 non-null  int64  \n",
            " 8   is_workingday      17379 non-null  int64  \n",
            " 9   weather_condition  17379 non-null  int64  \n",
            " 10  temp               17379 non-null  float64\n",
            " 11  atemp              17379 non-null  float64\n",
            " 12  humidity           17379 non-null  float64\n",
            " 13  windspeed          17379 non-null  float64\n",
            " 14  casual             17379 non-null  int64  \n",
            " 15  registered         17379 non-null  int64  \n",
            " 16  total_count        17379 non-null  int64  \n",
            "dtypes: float64(4), int64(12), object(1)\n",
            "memory usage: 2.3+ MB\n"
          ],
          "name": "stdout"
        }
      ]
    },
    {
      "cell_type": "code",
      "metadata": {
        "colab": {
          "base_uri": "https://localhost:8080/"
        },
        "id": "Yuom_23fxcse",
        "outputId": "5d191b9c-228b-468e-8a7c-2d735eca6060"
      },
      "source": [
        "# a. Qual o tamanho desse dataset?\n",
        "\n",
        "# d = df.size ---> número de elementos do dataframe => rows x columns\n",
        "# print(df.size) #295443\n",
        "\n",
        "df.shape "
      ],
      "execution_count": null,
      "outputs": [
        {
          "output_type": "execute_result",
          "data": {
            "text/plain": [
              "(17379, 17)"
            ]
          },
          "metadata": {
            "tags": []
          },
          "execution_count": 286
        }
      ]
    },
    {
      "cell_type": "code",
      "metadata": {
        "colab": {
          "base_uri": "https://localhost:8080/"
        },
        "id": "bplRi50JzZwo",
        "outputId": "dcbb0f61-944c-4aa8-b890-b649a12edbc0"
      },
      "source": [
        "# b. Qual a média da coluna windspeed?\n",
        "\n",
        "# df['windspeed'].mean(axis=0)\n",
        "df['windspeed'].mean() #0.1900976063064631"
      ],
      "execution_count": null,
      "outputs": [
        {
          "output_type": "execute_result",
          "data": {
            "text/plain": [
              "0.1900976063064631"
            ]
          },
          "metadata": {
            "tags": []
          },
          "execution_count": 34
        }
      ]
    },
    {
      "cell_type": "code",
      "metadata": {
        "colab": {
          "base_uri": "https://localhost:8080/"
        },
        "id": "6gtRO73A2Ytf",
        "outputId": "45bdee16-8dc1-44ca-962b-d0a8c55b1342"
      },
      "source": [
        "# c. Qual a média da coluna temp?\n",
        "\n",
        "df['temp'].mean()\n",
        "# df.mean() #0.496987"
      ],
      "execution_count": null,
      "outputs": [
        {
          "output_type": "execute_result",
          "data": {
            "text/plain": [
              "0.4969871684216586"
            ]
          },
          "metadata": {
            "tags": []
          },
          "execution_count": 260
        }
      ]
    },
    {
      "cell_type": "code",
      "metadata": {
        "colab": {
          "base_uri": "https://localhost:8080/"
        },
        "id": "213J8lSf21Ud",
        "outputId": "742d55b8-e06a-4b7d-c449-ed3d37afd5d7"
      },
      "source": [
        "# d. Quantos registros existem para o ano de 2011?\n",
        "\n",
        "len(df[df['year'] == 0]) # '8645' 2011\n",
        "df[df['year'] == 0].shape # (8645, 17)"
      ],
      "execution_count": null,
      "outputs": [
        {
          "output_type": "execute_result",
          "data": {
            "text/plain": [
              "(8645, 17)"
            ]
          },
          "metadata": {
            "tags": []
          },
          "execution_count": 230
        }
      ]
    },
    {
      "cell_type": "code",
      "metadata": {
        "colab": {
          "base_uri": "https://localhost:8080/"
        },
        "id": "0kBjEV044knm",
        "outputId": "37a84ebf-1d05-4fd1-b5b5-4b97dc899074"
      },
      "source": [
        "# e. Quantos registros existem para o ano de 2012?\n",
        "\n",
        "len(df[df['year'] == 1]) # 8734' 2012\n",
        "df[df['year'] == 1].shape # (8734, 17)"
      ],
      "execution_count": null,
      "outputs": [
        {
          "output_type": "execute_result",
          "data": {
            "text/plain": [
              "(8734, 17)"
            ]
          },
          "metadata": {
            "tags": []
          },
          "execution_count": 262
        }
      ]
    },
    {
      "cell_type": "code",
      "metadata": {
        "colab": {
          "base_uri": "https://localhost:8080/"
        },
        "id": "C0cJ_vIK9Rd2",
        "outputId": "0c57d0c0-de4a-4a52-9b6a-0d1223e15aa2"
      },
      "source": [
        "# f. Quantas locações de bicicletas foram efetuadas em 2011?\n",
        "\n",
        "df.loc[df['year'] == 0,['total_count']].sum()"
      ],
      "execution_count": null,
      "outputs": [
        {
          "output_type": "execute_result",
          "data": {
            "text/plain": [
              "total_count    1243103\n",
              "dtype: int64"
            ]
          },
          "metadata": {
            "tags": []
          },
          "execution_count": 296
        }
      ]
    },
    {
      "cell_type": "code",
      "metadata": {
        "colab": {
          "base_uri": "https://localhost:8080/"
        },
        "id": "6WVcAmUA9u3c",
        "outputId": "0e670683-5140-4265-af76-1ba26ab9ded7"
      },
      "source": [
        "# g. Quantas locações de bicicletas foram efetuadas em 2012?\n",
        "\n",
        "df.loc[df['year'] == 1,['total_count']].sum()"
      ],
      "execution_count": null,
      "outputs": [
        {
          "output_type": "execute_result",
          "data": {
            "text/plain": [
              "total_count    2049576\n",
              "dtype: int64"
            ]
          },
          "metadata": {
            "tags": []
          },
          "execution_count": 297
        }
      ]
    },
    {
      "cell_type": "code",
      "metadata": {
        "colab": {
          "base_uri": "https://localhost:8080/"
        },
        "id": "HiDroURttVw_",
        "outputId": "f72d8289-a0d5-4111-dae3-763220161fb4"
      },
      "source": [
        "# h. Qual estação do ano contém a maior média de locações de bicicletas?\n",
        "\n",
        "df.groupby(by = ['season'])['total_count'].mean().sort_values(ascending = False).head(1)"
      ],
      "execution_count": null,
      "outputs": [
        {
          "output_type": "execute_result",
          "data": {
            "text/plain": [
              "season\n",
              "3    236.016237\n",
              "Name: total_count, dtype: float64"
            ]
          },
          "metadata": {
            "tags": []
          },
          "execution_count": 310
        }
      ]
    },
    {
      "cell_type": "code",
      "metadata": {
        "colab": {
          "base_uri": "https://localhost:8080/"
        },
        "id": "kxeawd-OuyS3",
        "outputId": "3c062239-3d4e-4dda-82da-7549d039acd2"
      },
      "source": [
        "# i. Qual estação do ano contém a menor média de locações de bicicletas?\n",
        "\n",
        "df.groupby(by = ['season'])['total_count'].mean().sort_values(ascending = True).head(1)"
      ],
      "execution_count": null,
      "outputs": [
        {
          "output_type": "execute_result",
          "data": {
            "text/plain": [
              "season\n",
              "1    111.114569\n",
              "Name: total_count, dtype: float64"
            ]
          },
          "metadata": {
            "tags": []
          },
          "execution_count": 313
        }
      ]
    },
    {
      "cell_type": "code",
      "metadata": {
        "colab": {
          "base_uri": "https://localhost:8080/"
        },
        "id": "D6vgyx93vwDP",
        "outputId": "478eb49a-73f2-40a6-a05f-bb78943d320d"
      },
      "source": [
        "# j. Qual horário do dia contém a maior média de locações de bicicletas?\n",
        "\n",
        "df.groupby(by = ['hour'])['total_count'].mean().sort_values(ascending = False).head(1)"
      ],
      "execution_count": null,
      "outputs": [
        {
          "output_type": "execute_result",
          "data": {
            "text/plain": [
              "hour\n",
              "17    461.452055\n",
              "Name: total_count, dtype: float64"
            ]
          },
          "metadata": {
            "tags": []
          },
          "execution_count": 315
        }
      ]
    },
    {
      "cell_type": "code",
      "metadata": {
        "colab": {
          "base_uri": "https://localhost:8080/"
        },
        "id": "mEg1uqTjwJKs",
        "outputId": "cd6ecaaa-17a2-4a14-aa22-c27638ac292e"
      },
      "source": [
        "# k. Qual horário do dia contém a menor média de locações de bicicletas?\n",
        "\n",
        "df.groupby(by = ['hour'])['total_count'].mean().sort_values(ascending = True).head(1)"
      ],
      "execution_count": null,
      "outputs": [
        {
          "output_type": "execute_result",
          "data": {
            "text/plain": [
              "hour\n",
              "4    6.352941\n",
              "Name: total_count, dtype: float64"
            ]
          },
          "metadata": {
            "tags": []
          },
          "execution_count": 321
        }
      ]
    },
    {
      "cell_type": "code",
      "metadata": {
        "colab": {
          "base_uri": "https://localhost:8080/"
        },
        "id": "y1GBvx05wokd",
        "outputId": "b06f888a-aa05-45b2-c3dc-bb91ca53cc6e"
      },
      "source": [
        "# l. Que dia da semana contém a maior média de locações de bicicletas?\n",
        "\n",
        "df.groupby(by = ['weekday'])['total_count'].mean().sort_values(ascending = False).head(1)"
      ],
      "execution_count": null,
      "outputs": [
        {
          "output_type": "execute_result",
          "data": {
            "text/plain": [
              "weekday\n",
              "4    196.436665\n",
              "Name: total_count, dtype: float64"
            ]
          },
          "metadata": {
            "tags": []
          },
          "execution_count": 323
        }
      ]
    },
    {
      "cell_type": "code",
      "metadata": {
        "colab": {
          "base_uri": "https://localhost:8080/"
        },
        "id": "9T-66NVAw7dk",
        "outputId": "fbe1fada-655a-4d37-ffe4-68036d2c32b7"
      },
      "source": [
        "# m. Que dia da semana contém a menor média de locações de bicicletas?\n",
        "\n",
        "df.groupby(by = ['weekday'])['total_count'].mean().sort_values(ascending = True).head(1)"
      ],
      "execution_count": null,
      "outputs": [
        {
          "output_type": "execute_result",
          "data": {
            "text/plain": [
              "weekday\n",
              "0    177.468825\n",
              "Name: total_count, dtype: float64"
            ]
          },
          "metadata": {
            "tags": []
          },
          "execution_count": 324
        }
      ]
    },
    {
      "cell_type": "code",
      "metadata": {
        "colab": {
          "base_uri": "https://localhost:8080/"
        },
        "id": "d8RU2vdOxFSU",
        "outputId": "9d220f84-70c9-4dd3-f848-1b2141ca7c6f"
      },
      "source": [
        "# n. Às quartas-feiras (weekday = 3), qual o horário do dia contém a maior média\n",
        "# de locações de bicicletas?\n",
        "\n",
        "df.loc[df['weekday']==3].groupby(by = ['hour'])['total_count'].mean().sort_values(ascending = False).head(1)"
      ],
      "execution_count": null,
      "outputs": [
        {
          "output_type": "execute_result",
          "data": {
            "text/plain": [
              "hour\n",
              "17    513.144231\n",
              "Name: total_count, dtype: float64"
            ]
          },
          "metadata": {
            "tags": []
          },
          "execution_count": 332
        }
      ]
    },
    {
      "cell_type": "code",
      "metadata": {
        "colab": {
          "base_uri": "https://localhost:8080/"
        },
        "id": "PQLcEaSTy1hV",
        "outputId": "12b0c1f5-2738-46ce-bb9a-eb7e721ce613"
      },
      "source": [
        "# o. Aos sábados (weekday = 6), qual o horário do dia contém a maior média de\n",
        "# locações de bicicletas?\n",
        "\n",
        "df.loc[df['weekday']==6].groupby(by = ['hour'])['total_count'].mean().sort_values(ascending = False).head(1)"
      ],
      "execution_count": null,
      "outputs": [
        {
          "output_type": "execute_result",
          "data": {
            "text/plain": [
              "hour\n",
              "13    385.371429\n",
              "Name: total_count, dtype: float64"
            ]
          },
          "metadata": {
            "tags": []
          },
          "execution_count": 333
        }
      ]
    }
  ]
}